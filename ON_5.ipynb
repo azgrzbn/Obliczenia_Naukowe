{
  "nbformat": 4,
  "nbformat_minor": 0,
  "metadata": {
    "colab": {
      "provenance": []
    },
    "kernelspec": {
      "name": "python3",
      "display_name": "Python 3"
    },
    "language_info": {
      "name": "python"
    }
  },
  "cells": [
    {
      "cell_type": "code",
      "execution_count": null,
      "metadata": {
        "id": "LbO6yYDsi0zL"
      },
      "outputs": [],
      "source": [
        "import numpy as np\n",
        "from scipy.linalg import block_diag"
      ]
    },
    {
      "cell_type": "code",
      "source": [
        "Mat1=block_diag(np.ones((2,2)),np.zeros((2,2)),3,(4*np.ones((2,2))-2*np.eye(2)))"
      ],
      "metadata": {
        "id": "PjKcihFni5cg"
      },
      "execution_count": null,
      "outputs": []
    },
    {
      "cell_type": "code",
      "source": [
        "Mat1.shape"
      ],
      "metadata": {
        "colab": {
          "base_uri": "https://localhost:8080/"
        },
        "id": "FnlVLqxDi-d3",
        "outputId": "bfcb92b6-5eec-4274-e139-894a26c77207"
      },
      "execution_count": null,
      "outputs": [
        {
          "output_type": "execute_result",
          "data": {
            "text/plain": [
              "(7, 7)"
            ]
          },
          "metadata": {},
          "execution_count": 5
        }
      ]
    },
    {
      "cell_type": "code",
      "source": [
        "Mat1.reshape((1,49))"
      ],
      "metadata": {
        "colab": {
          "base_uri": "https://localhost:8080/"
        },
        "id": "rI9EZy0NjJRw",
        "outputId": "c2a1612c-4a92-4133-ec48-502026a39d81"
      },
      "execution_count": null,
      "outputs": [
        {
          "output_type": "execute_result",
          "data": {
            "text/plain": [
              "array([[1., 1., 0., 0., 0., 0., 0., 1., 1., 0., 0., 0., 0., 0., 0., 0.,\n",
              "        0., 0., 0., 0., 0., 0., 0., 0., 0., 0., 0., 0., 0., 0., 0., 0.,\n",
              "        3., 0., 0., 0., 0., 0., 0., 0., 2., 4., 0., 0., 0., 0., 0., 4.,\n",
              "        2.]])"
            ]
          },
          "metadata": {},
          "execution_count": 9
        }
      ]
    },
    {
      "cell_type": "code",
      "source": [
        "tab=np.array([[1,2,3],[4,5,6]])\n",
        "tab"
      ],
      "metadata": {
        "colab": {
          "base_uri": "https://localhost:8080/"
        },
        "id": "nLh3qRE1j3gL",
        "outputId": "51694aae-a903-4e6b-d704-f918a3074767"
      },
      "execution_count": null,
      "outputs": [
        {
          "output_type": "execute_result",
          "data": {
            "text/plain": [
              "array([[1, 2, 3],\n",
              "       [4, 5, 6]])"
            ]
          },
          "metadata": {},
          "execution_count": 11
        }
      ]
    },
    {
      "cell_type": "code",
      "source": [
        "tab.reshape((3,2))"
      ],
      "metadata": {
        "colab": {
          "base_uri": "https://localhost:8080/"
        },
        "id": "GQcPqEmYkcGy",
        "outputId": "f046b9ad-a1fe-46d7-d645-e7db9373c8c7"
      },
      "execution_count": null,
      "outputs": [
        {
          "output_type": "execute_result",
          "data": {
            "text/plain": [
              "array([[1, 2],\n",
              "       [3, 4],\n",
              "       [5, 6]])"
            ]
          },
          "metadata": {},
          "execution_count": 12
        }
      ]
    },
    {
      "cell_type": "code",
      "source": [
        "tab.reshape((1,6))"
      ],
      "metadata": {
        "colab": {
          "base_uri": "https://localhost:8080/"
        },
        "id": "cwpMitFCkhC9",
        "outputId": "594f9da9-7362-4f79-b48b-7534394b1c5d"
      },
      "execution_count": null,
      "outputs": [
        {
          "output_type": "execute_result",
          "data": {
            "text/plain": [
              "array([[1, 2, 3, 4, 5, 6]])"
            ]
          },
          "metadata": {},
          "execution_count": 14
        }
      ]
    },
    {
      "cell_type": "code",
      "source": [
        "tab.reshape(-1)"
      ],
      "metadata": {
        "colab": {
          "base_uri": "https://localhost:8080/"
        },
        "id": "VlC8aRUKkyzT",
        "outputId": "572031d1-68d3-4c19-9018-1a8c32a5e19d"
      },
      "execution_count": null,
      "outputs": [
        {
          "output_type": "execute_result",
          "data": {
            "text/plain": [
              "array([1, 2, 3, 4, 5, 6])"
            ]
          },
          "metadata": {},
          "execution_count": 15
        }
      ]
    },
    {
      "cell_type": "code",
      "source": [],
      "metadata": {
        "colab": {
          "base_uri": "https://localhost:8080/",
          "height": 130
        },
        "id": "qVis-JcEk4GZ",
        "outputId": "e13a9bdb-c28e-49bf-85dd-13708def8385"
      },
      "execution_count": null,
      "outputs": [
        {
          "output_type": "error",
          "ename": "SyntaxError",
          "evalue": "ignored",
          "traceback": [
            "\u001b[0;36m  File \u001b[0;32m\"<ipython-input-16-a1a636f4a4a6>\"\u001b[0;36m, line \u001b[0;32m2\u001b[0m\n\u001b[0;31m    Utwórz tablicę\u001b[0m\n\u001b[0m                 ^\u001b[0m\n\u001b[0;31mSyntaxError\u001b[0m\u001b[0;31m:\u001b[0m invalid syntax\n"
          ]
        }
      ]
    },
    {
      "cell_type": "markdown",
      "source": [
        "### Zadanie 7\n",
        "Utwórz tablicę\n",
        "\n",
        "$$\n",
        "\\begin{bmatrix}\n",
        "1&2&3&4\\\\\n",
        "5&6&7&8 \\\\\n",
        "9&10&11&12\\\\\n",
        "13&14&15&16\n",
        "\\end{bmatrix}\n",
        "$$"
      ],
      "metadata": {
        "id": "GY-1DHmrlBIi"
      }
    },
    {
      "cell_type": "code",
      "source": [
        "np.arange(1,17).reshape((4,4))"
      ],
      "metadata": {
        "colab": {
          "base_uri": "https://localhost:8080/"
        },
        "id": "TVUoOq8ik_gk",
        "outputId": "86a17323-7ebe-414a-eff9-0af428925464"
      },
      "execution_count": null,
      "outputs": [
        {
          "output_type": "execute_result",
          "data": {
            "text/plain": [
              "array([[ 1,  2,  3,  4],\n",
              "       [ 5,  6,  7,  8],\n",
              "       [ 9, 10, 11, 12],\n",
              "       [13, 14, 15, 16]])"
            ]
          },
          "metadata": {},
          "execution_count": 18
        }
      ]
    },
    {
      "cell_type": "code",
      "source": [],
      "metadata": {
        "id": "G4J25x7HlYgs"
      },
      "execution_count": null,
      "outputs": []
    },
    {
      "cell_type": "markdown",
      "source": [
        "#### Zadanie\n",
        "Utwórz macierz (indeksy od 1) o wymiarach $5x6x3$ i elementach\n",
        "\n",
        "$$\n",
        "X[i,j,k]=100+60(i-1)+10(j-1)+300(k-1)\n",
        "$$"
      ],
      "metadata": {
        "id": "4STG2tKalp7G"
      }
    },
    {
      "cell_type": "code",
      "source": [
        "a1=np.arange(1,5).reshape((2,2))\n",
        "a2=np.arange(1,9).reshape((2,4))"
      ],
      "metadata": {
        "id": "kZLRIMl6lqOe"
      },
      "execution_count": null,
      "outputs": []
    },
    {
      "cell_type": "code",
      "source": [
        "a1+a2"
      ],
      "metadata": {
        "colab": {
          "base_uri": "https://localhost:8080/",
          "height": 165
        },
        "id": "PjP1pyCgomw4",
        "outputId": "344d3902-88be-4a76-f7b2-1c198ba80820"
      },
      "execution_count": null,
      "outputs": [
        {
          "output_type": "error",
          "ename": "ValueError",
          "evalue": "ignored",
          "traceback": [
            "\u001b[0;31m---------------------------------------------------------------------------\u001b[0m",
            "\u001b[0;31mValueError\u001b[0m                                Traceback (most recent call last)",
            "\u001b[0;32m<ipython-input-22-83a861f69161>\u001b[0m in \u001b[0;36m<module>\u001b[0;34m()\u001b[0m\n\u001b[0;32m----> 1\u001b[0;31m \u001b[0ma1\u001b[0m\u001b[0;34m+\u001b[0m\u001b[0ma2\u001b[0m\u001b[0;34m\u001b[0m\u001b[0;34m\u001b[0m\u001b[0m\n\u001b[0m",
            "\u001b[0;31mValueError\u001b[0m: operands could not be broadcast together with shapes (2,2) (2,4) "
          ]
        }
      ]
    },
    {
      "cell_type": "code",
      "source": [
        "2*np.eye(2)*np.ones((2,2))"
      ],
      "metadata": {
        "colab": {
          "base_uri": "https://localhost:8080/"
        },
        "id": "2JKjSIfxosFf",
        "outputId": "7688da42-04cd-4e62-d320-3872cbddc478"
      },
      "execution_count": null,
      "outputs": [
        {
          "output_type": "execute_result",
          "data": {
            "text/plain": [
              "array([[2., 0.],\n",
              "       [0., 2.]])"
            ]
          },
          "metadata": {},
          "execution_count": 25
        }
      ]
    },
    {
      "cell_type": "code",
      "source": [
        "np.sin(a1)"
      ],
      "metadata": {
        "colab": {
          "base_uri": "https://localhost:8080/"
        },
        "id": "W4bZ2hSOqE8u",
        "outputId": "34ab5c7f-5460-4d07-e0b6-5d7b6f3e7e74"
      },
      "execution_count": null,
      "outputs": [
        {
          "output_type": "execute_result",
          "data": {
            "text/plain": [
              "array([[ 0.84147098,  0.90929743],\n",
              "       [ 0.14112001, -0.7568025 ]])"
            ]
          },
          "metadata": {},
          "execution_count": 26
        }
      ]
    },
    {
      "cell_type": "code",
      "source": [
        "A=np.arange(1,17).reshape((2,8))\n",
        "A"
      ],
      "metadata": {
        "colab": {
          "base_uri": "https://localhost:8080/"
        },
        "id": "q5YDtuLuqZHZ",
        "outputId": "e50877ea-31e7-4b8d-8524-c0e782489584"
      },
      "execution_count": null,
      "outputs": [
        {
          "output_type": "execute_result",
          "data": {
            "text/plain": [
              "array([[ 1,  2,  3,  4,  5,  6,  7,  8],\n",
              "       [ 9, 10, 11, 12, 13, 14, 15, 16]])"
            ]
          },
          "metadata": {},
          "execution_count": 28
        }
      ]
    },
    {
      "cell_type": "code",
      "source": [
        "A.T"
      ],
      "metadata": {
        "colab": {
          "base_uri": "https://localhost:8080/"
        },
        "id": "Wm1xmT8cq-zh",
        "outputId": "7ec7eecd-aa68-49a2-ab42-ad6b4a68ab44"
      },
      "execution_count": null,
      "outputs": [
        {
          "output_type": "execute_result",
          "data": {
            "text/plain": [
              "array([[ 1,  9],\n",
              "       [ 2, 10],\n",
              "       [ 3, 11],\n",
              "       [ 4, 12],\n",
              "       [ 5, 13],\n",
              "       [ 6, 14],\n",
              "       [ 7, 15],\n",
              "       [ 8, 16]])"
            ]
          },
          "metadata": {},
          "execution_count": 29
        }
      ]
    },
    {
      "cell_type": "code",
      "source": [
        "B=np.arange(1,17)\n",
        "B"
      ],
      "metadata": {
        "colab": {
          "base_uri": "https://localhost:8080/"
        },
        "id": "0CbsFxmarCgT",
        "outputId": "12df7b3e-8b9a-4e91-eb2c-4a080e593ca6"
      },
      "execution_count": null,
      "outputs": [
        {
          "output_type": "execute_result",
          "data": {
            "text/plain": [
              "array([ 1,  2,  3,  4,  5,  6,  7,  8,  9, 10, 11, 12, 13, 14, 15, 16])"
            ]
          },
          "metadata": {},
          "execution_count": 31
        }
      ]
    },
    {
      "cell_type": "code",
      "source": [
        "B.T"
      ],
      "metadata": {
        "colab": {
          "base_uri": "https://localhost:8080/"
        },
        "id": "kbz4gwmhrPHM",
        "outputId": "a399684e-dbce-40d0-841d-0f2412e1c579"
      },
      "execution_count": null,
      "outputs": [
        {
          "output_type": "execute_result",
          "data": {
            "text/plain": [
              "array([ 1,  2,  3,  4,  5,  6,  7,  8,  9, 10, 11, 12, 13, 14, 15, 16])"
            ]
          },
          "metadata": {},
          "execution_count": 32
        }
      ]
    },
    {
      "cell_type": "code",
      "source": [],
      "metadata": {
        "id": "XNMVvyXwrR3K"
      },
      "execution_count": null,
      "outputs": []
    },
    {
      "cell_type": "markdown",
      "source": [
        "## Agregacja"
      ],
      "metadata": {
        "id": "yFMSh-gPrfe8"
      }
    },
    {
      "cell_type": "code",
      "source": [
        "A"
      ],
      "metadata": {
        "colab": {
          "base_uri": "https://localhost:8080/"
        },
        "id": "fjrSHuWnrhF2",
        "outputId": "edf69e2b-ec15-4fb5-c693-039f09763ba9"
      },
      "execution_count": null,
      "outputs": [
        {
          "output_type": "execute_result",
          "data": {
            "text/plain": [
              "array([[ 1,  2,  3,  4,  5,  6,  7,  8],\n",
              "       [ 9, 10, 11, 12, 13, 14, 15, 16]])"
            ]
          },
          "metadata": {},
          "execution_count": 33
        }
      ]
    },
    {
      "cell_type": "markdown",
      "source": [
        "## Funkcje agregujące\n",
        "* ```np.mean``` - średnia\n",
        "* ```np.std``` - odchylenie standardowe\n",
        "* ```np.var``` - wariancja $var=std^2$\n",
        "* ```np.median```\n",
        "* ```np.sum```\n",
        "* ```np.prod```\n",
        "* ```np.cumsum``` - skumulowana suma\n",
        "* ```np.cumprod```\n",
        "* ```np.min, np.max```\n",
        "* ```np.argmin, np.argmax```\n",
        "* ```np.all, np.any``` - sprawdza czy wszystkie lub którykolwiek są True (np. różne od zera)"
      ],
      "metadata": {
        "id": "lyrLjesTrvN1"
      }
    },
    {
      "cell_type": "code",
      "source": [
        "np.mean(A,axis=1)"
      ],
      "metadata": {
        "colab": {
          "base_uri": "https://localhost:8080/"
        },
        "id": "Zqmwxvw9rn6x",
        "outputId": "ebf4b1bf-2e44-4da4-bc43-a999e34ba75b"
      },
      "execution_count": null,
      "outputs": [
        {
          "output_type": "execute_result",
          "data": {
            "text/plain": [
              "array([ 4.5, 12.5])"
            ]
          },
          "metadata": {},
          "execution_count": 36
        }
      ]
    },
    {
      "cell_type": "code",
      "source": [
        "L=np.random.random(100)\n",
        "L"
      ],
      "metadata": {
        "colab": {
          "base_uri": "https://localhost:8080/"
        },
        "id": "ZVNZbhvfr2-o",
        "outputId": "bdfda5c5-5343-49df-9a1e-9db5949fdc90"
      },
      "execution_count": null,
      "outputs": [
        {
          "output_type": "execute_result",
          "data": {
            "text/plain": [
              "array([0.9639754 , 0.97760667, 0.36402848, 0.21839119, 0.52982466,\n",
              "       0.38012446, 0.32917765, 0.42285803, 0.35210716, 0.23909486,\n",
              "       0.65813255, 0.47066459, 0.47831099, 0.99144909, 0.28868027,\n",
              "       0.48520932, 0.09906172, 0.79052803, 0.68150679, 0.79896194,\n",
              "       0.47217372, 0.83520475, 0.25420224, 0.75207267, 0.27055714,\n",
              "       0.68593344, 0.75437774, 0.7875034 , 0.17313591, 0.84746015,\n",
              "       0.93792352, 0.4506617 , 0.29568043, 0.94800015, 0.18352828,\n",
              "       0.38913536, 0.17755459, 0.22650966, 0.28093882, 0.51304656,\n",
              "       0.48772011, 0.47308683, 0.01951505, 0.91931361, 0.85263599,\n",
              "       0.64633579, 0.93413881, 0.8315568 , 0.97525457, 0.19860497,\n",
              "       0.31383569, 0.0170194 , 0.04248141, 0.74126495, 0.33950596,\n",
              "       0.19459508, 0.48383571, 0.96379564, 0.31024517, 0.47061674,\n",
              "       0.44469186, 0.03773189, 0.7387245 , 0.13715442, 0.18519965,\n",
              "       0.51061193, 0.60048051, 0.20243176, 0.42817166, 0.10155204,\n",
              "       0.46977285, 0.66230594, 0.44502282, 0.58861849, 0.68761281,\n",
              "       0.78611448, 0.25903191, 0.64172674, 0.38534896, 0.61848179,\n",
              "       0.3083687 , 0.89842527, 0.77652838, 0.42308019, 0.73674699,\n",
              "       0.39348741, 0.23347934, 0.92978529, 0.1707808 , 0.98966419,\n",
              "       0.56538706, 0.62896886, 0.14210422, 0.54498291, 0.1531133 ,\n",
              "       0.4344572 , 0.12326323, 0.58722212, 0.07964763, 0.39288664])"
            ]
          },
          "metadata": {},
          "execution_count": 38
        }
      ]
    },
    {
      "cell_type": "code",
      "source": [
        "np.cumsum(A,axis=1)"
      ],
      "metadata": {
        "colab": {
          "base_uri": "https://localhost:8080/"
        },
        "id": "InudHv40se9A",
        "outputId": "8ffdbb72-e096-4ffc-a9ab-d9e52fc1b43a"
      },
      "execution_count": null,
      "outputs": [
        {
          "output_type": "execute_result",
          "data": {
            "text/plain": [
              "array([[  1,   3,   6,  10,  15,  21,  28,  36],\n",
              "       [  9,  19,  30,  42,  55,  69,  84, 100]])"
            ]
          },
          "metadata": {},
          "execution_count": 40
        }
      ]
    },
    {
      "cell_type": "code",
      "source": [
        "A*(A>5)"
      ],
      "metadata": {
        "colab": {
          "base_uri": "https://localhost:8080/"
        },
        "id": "c83MIIt2tCx8",
        "outputId": "e3ca16e5-dc87-4bc6-8669-1733eeeebbf5"
      },
      "execution_count": null,
      "outputs": [
        {
          "output_type": "execute_result",
          "data": {
            "text/plain": [
              "array([[ 0,  0,  0,  0,  0,  6,  7,  8],\n",
              "       [ 9, 10, 11, 12, 13, 14, 15, 16]])"
            ]
          },
          "metadata": {},
          "execution_count": 43
        }
      ]
    },
    {
      "cell_type": "code",
      "source": [
        "A[A>5]"
      ],
      "metadata": {
        "colab": {
          "base_uri": "https://localhost:8080/"
        },
        "id": "-NwaAJ6-tkO8",
        "outputId": "35466294-cf0e-43ce-a360-70e0e052cec1"
      },
      "execution_count": null,
      "outputs": [
        {
          "output_type": "execute_result",
          "data": {
            "text/plain": [
              "array([ 6,  7,  8,  9, 10, 11, 12, 13, 14, 15, 16])"
            ]
          },
          "metadata": {},
          "execution_count": 42
        }
      ]
    },
    {
      "cell_type": "code",
      "source": [
        "if np.all(A>5):\n",
        "  print('tak')"
      ],
      "metadata": {
        "id": "HdvRvTrvt0pz"
      },
      "execution_count": null,
      "outputs": []
    },
    {
      "cell_type": "code",
      "source": [
        "L=np.arange(1,17).reshape(4,4)\n",
        "L"
      ],
      "metadata": {
        "colab": {
          "base_uri": "https://localhost:8080/"
        },
        "id": "jXMZ3wxIugDt",
        "outputId": "bd9ba196-b546-46bf-a395-c7a0f2cdd3b9"
      },
      "execution_count": null,
      "outputs": [
        {
          "output_type": "execute_result",
          "data": {
            "text/plain": [
              "array([[ 1,  2,  3,  4],\n",
              "       [ 5,  6,  7,  8],\n",
              "       [ 9, 10, 11, 12],\n",
              "       [13, 14, 15, 16]])"
            ]
          },
          "metadata": {},
          "execution_count": 47
        }
      ]
    },
    {
      "cell_type": "code",
      "source": [
        "x=np.array([1,2,3,4])\n",
        "y=np.array([0,4,1,6])"
      ],
      "metadata": {
        "id": "lqgrLwpMu9Cn"
      },
      "execution_count": null,
      "outputs": []
    },
    {
      "cell_type": "code",
      "source": [
        "x<y"
      ],
      "metadata": {
        "colab": {
          "base_uri": "https://localhost:8080/"
        },
        "id": "-_WvJ3ZxvGaL",
        "outputId": "607bc5b4-153e-4ff6-c6db-e1ff1c55265d"
      },
      "execution_count": null,
      "outputs": [
        {
          "output_type": "execute_result",
          "data": {
            "text/plain": [
              "array([False,  True, False,  True])"
            ]
          },
          "metadata": {},
          "execution_count": 51
        }
      ]
    },
    {
      "cell_type": "code",
      "source": [
        "L[x<y]"
      ],
      "metadata": {
        "colab": {
          "base_uri": "https://localhost:8080/"
        },
        "id": "sMq9T8x5vRGr",
        "outputId": "e856fcb0-82fc-40fe-90bc-71174df253f2"
      },
      "execution_count": null,
      "outputs": [
        {
          "output_type": "execute_result",
          "data": {
            "text/plain": [
              "array([[ 5,  6,  7,  8],\n",
              "       [13, 14, 15, 16]])"
            ]
          },
          "metadata": {},
          "execution_count": 52
        }
      ]
    },
    {
      "cell_type": "code",
      "source": [],
      "metadata": {
        "id": "9QLUPO_6vgfA"
      },
      "execution_count": null,
      "outputs": []
    },
    {
      "cell_type": "markdown",
      "source": [
        "#### Zadanie (rozwiązujemy na końcu pliku)\n",
        "\n",
        "1. Wygeneruj losową tablicę L(100x10) liczb całkowitych z przedziału [0,10] generatorem=12345 (```np.random.seed(12345)``` przed użyciem ```np.random.random_integers```. Sprawdź:\n",
        "* ile jest w niej liczb większych od 3\n",
        "* jaka jest średnia w każdej kolumnie\n",
        "* określ w których wierszach co najmniej połowa liczb jest $\\geq 5$\n",
        "* wypisz kolejno (wierszami) wsyzsktie elementy tablicy z przedziału [2,5].\n",
        "* stwórz nową talibcę, zerując w L wszysktie elementy spoza przedziału [2,5].\n",
        "* znajdź wiersze, które nie zawierają żadnego zera"
      ],
      "metadata": {
        "id": "XTaX_cDMv1iP"
      }
    },
    {
      "cell_type": "markdown",
      "source": [
        "Zobacz także\n",
        "\n",
        "* ```np.where```\n",
        "* ```np.choose```\n",
        "* ```np.select```\n",
        "* ```np.nonzero```"
      ],
      "metadata": {
        "id": "Cvu0FPbQws23"
      }
    },
    {
      "cell_type": "code",
      "source": [],
      "metadata": {
        "id": "S7g76qthv2mB"
      },
      "execution_count": null,
      "outputs": []
    },
    {
      "cell_type": "markdown",
      "source": [],
      "metadata": {
        "id": "TAvV-i7Aw9ql"
      }
    },
    {
      "cell_type": "markdown",
      "source": [
        "## Algebra liniowa w Pythonie\n",
        "* ```np.linalg.inv ``` - odwrotność macierzy\n",
        "* ```np.linalg.det``` - wyznacznik\n",
        "* ```np.linalg.eig``` - wartości i wektory własne\n",
        "* ```np.dot``` - iloczyn macierzowy\n",
        "* ```np.inner``` - iloczyn skalarny\n",
        "* ```np.cross``` - iloczyn wektorowy\n",
        "\n",
        "* ```np.linalg.norm``` - norma macierzy lub wektora\n"
      ],
      "metadata": {
        "id": "MiXElMFIw9wB"
      }
    },
    {
      "cell_type": "code",
      "source": [
        "np.linalg.inv"
      ],
      "metadata": {
        "id": "SUukj8A1w-A-"
      },
      "execution_count": null,
      "outputs": []
    },
    {
      "cell_type": "markdown",
      "source": [
        "#### Zadanie\n",
        "Niech $A=\\begin{bmatrix} 2&3\\\\0&2\\end{bmatrix}$ oraz $B=\\begin{bmatrix} 2 & 5 \\\\ 3 & 8 \\end{bmatrix}$. Wyznacz iloczyn $C=BAB^{-1}$. Oblicz wartości własne macierzy $A$ i macierzy $C$."
      ],
      "metadata": {
        "id": "c9sO9Nk-xd-L"
      }
    },
    {
      "cell_type": "code",
      "source": [
        "A=np.array([[2,3],[0,2]])\n",
        "B=np.array([[2,5],[3,8]])\n",
        "C=np.dot(B,np.dot(A,np.linalg.inv(B)))"
      ],
      "metadata": {
        "id": "efSzCeM3xeOJ"
      },
      "execution_count": null,
      "outputs": []
    },
    {
      "cell_type": "code",
      "source": [
        "np.linalg.eig(A)[0]"
      ],
      "metadata": {
        "colab": {
          "base_uri": "https://localhost:8080/"
        },
        "id": "qIxgOCJJy4cM",
        "outputId": "0a16f409-c6e6-41b2-f97e-abce8624db96"
      },
      "execution_count": null,
      "outputs": [
        {
          "output_type": "execute_result",
          "data": {
            "text/plain": [
              "array([2., 2.])"
            ]
          },
          "metadata": {},
          "execution_count": 55
        }
      ]
    },
    {
      "cell_type": "code",
      "source": [
        "np.linalg.eig(A)[1][:,0]"
      ],
      "metadata": {
        "colab": {
          "base_uri": "https://localhost:8080/"
        },
        "id": "EFSj_ppOzDkn",
        "outputId": "20fdadd3-3401-4a52-95e6-d00b64890b9f"
      },
      "execution_count": null,
      "outputs": [
        {
          "output_type": "execute_result",
          "data": {
            "text/plain": [
              "array([1., 0.])"
            ]
          },
          "metadata": {},
          "execution_count": 57
        }
      ]
    },
    {
      "cell_type": "code",
      "source": [
        "np.linalg.eig(C)[0]"
      ],
      "metadata": {
        "colab": {
          "base_uri": "https://localhost:8080/"
        },
        "id": "KEyXZi8azJw6",
        "outputId": "6242b209-8b20-40f3-f6f9-253feae215c5"
      },
      "execution_count": null,
      "outputs": [
        {
          "output_type": "execute_result",
          "data": {
            "text/plain": [
              "array([2.+1.97405238e-07j, 2.-1.97405238e-07j])"
            ]
          },
          "metadata": {},
          "execution_count": 61
        }
      ]
    },
    {
      "cell_type": "code",
      "source": [],
      "metadata": {
        "id": "tUyT07zhzpvw"
      },
      "execution_count": null,
      "outputs": []
    },
    {
      "cell_type": "markdown",
      "source": [
        "#### Zadanie\n",
        "\n",
        "1. Wygeneruj losową tablicę L(100x10) liczb całkowitych z przedziału [0,10] generatorem=12345 (```np.random.seed(12345)``` przed użyciem ```np.random.random_integers```. Sprawdź:\n",
        "* ile jest w niej liczb większych od 3\n",
        "* jaka jest średnia w każdej kolumnie\n",
        "* określ w których wierszach co najmniej połowa liczb jest $\\geq 5$\n",
        "* wypisz kolejno (wierszami) wsyzsktie elementy tablicy z przedziału [2,5].\n",
        "* stwórz nową talibcę, zerując w L wszysktie elementy spoza przedziału [2,5].\n",
        "* znajdź wiersze, które nie zawierają żadnego zera"
      ],
      "metadata": {
        "id": "vqFD8CvR0k6L"
      }
    },
    {
      "cell_type": "code",
      "source": [
        "np.random.seed(12345)\n",
        "L=np.random.random_integers(low=0, high=10, size=(100,10))\n",
        "print(L)"
      ],
      "metadata": {
        "id": "-DAKPvoUeuIr"
      },
      "execution_count": null,
      "outputs": []
    },
    {
      "cell_type": "code",
      "source": [
        "#ile jest w niej liczb większych od 3\n",
        "np.sum(L>3)"
      ],
      "metadata": {
        "id": "erEg1Dileyxf"
      },
      "execution_count": null,
      "outputs": []
    },
    {
      "cell_type": "code",
      "source": [
        "#jaka jest średnia w każdej kolumnie\n",
        "np.mean(L,axis=0)"
      ],
      "metadata": {
        "id": "SQkPUWVoe2Z5"
      },
      "execution_count": null,
      "outputs": []
    },
    {
      "cell_type": "code",
      "source": [
        "#określ w których wierszach co najmniej połowa liczb jest ≥5\n",
        "L1=L>=5\n",
        "L2=np.sum(L1,axis=1)\n",
        "np.where(L2>=5)\n",
        "#kolumny numerowane od 0"
      ],
      "metadata": {
        "id": "UWxdTSl1fA5y"
      },
      "execution_count": null,
      "outputs": []
    },
    {
      "cell_type": "code",
      "source": [
        "L3=L<=5\n",
        "L4=L>=2\n",
        "L5=L3==L4\n",
        "#stwórz nową talibcę, zerując w L wszysktie elementy spoza przedziału [2,5]\n",
        "L6 = np.where(L5==True, L, 0)"
      ],
      "metadata": {
        "id": "3RG4tcQGfGpH"
      },
      "execution_count": null,
      "outputs": []
    },
    {
      "cell_type": "code",
      "source": [
        "#znajdź wiersze, które nie zawierają żadnego zera\n",
        "for i in range (100):\n",
        "    if np.all(L5[i]<0):\n",
        "        print(i)"
      ],
      "metadata": {
        "id": "xQV3UED_fUsQ"
      },
      "execution_count": null,
      "outputs": []
    }
  ]
}
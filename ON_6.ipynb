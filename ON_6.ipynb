{
  "nbformat": 4,
  "nbformat_minor": 0,
  "metadata": {
    "colab": {
      "provenance": [],
      "toc_visible": true
    },
    "kernelspec": {
      "name": "python3",
      "display_name": "Python 3"
    },
    "language_info": {
      "name": "python"
    }
  },
  "cells": [
    {
      "cell_type": "markdown",
      "source": [
        "# Algebra liniowa"
      ],
      "metadata": {
        "id": "xuSDKdlIX5eR"
      }
    },
    {
      "cell_type": "code",
      "execution_count": null,
      "metadata": {
        "colab": {
          "base_uri": "https://localhost:8080/"
        },
        "id": "m0WIGim8Xx66",
        "outputId": "fbc485c4-e03c-4c2b-9cdf-f8311f0ca9c1"
      },
      "outputs": [
        {
          "output_type": "execute_result",
          "data": {
            "text/plain": [
              "array([[6, 7, 2, 7, 3],\n",
              "       [5, 2, 1, 1, 5],\n",
              "       [4, 3, 5, 3, 3],\n",
              "       [2, 0, 8, 4, 5],\n",
              "       [0, 7, 5, 8, 8]])"
            ]
          },
          "metadata": {},
          "execution_count": 7
        }
      ],
      "source": [
        "import numpy as np\n",
        "L=np.random.randint(low=0, high=10, size=(5,5))\n",
        "L\n"
      ]
    },
    {
      "cell_type": "code",
      "source": [
        "%timeit(np.linalg.eig(L))"
      ],
      "metadata": {
        "colab": {
          "base_uri": "https://localhost:8080/"
        },
        "id": "VyyEj-RWZatA",
        "outputId": "72b53c9b-2b32-4fe8-fdf3-b18917d10f80"
      },
      "execution_count": null,
      "outputs": [
        {
          "output_type": "stream",
          "name": "stdout",
          "text": [
            "The slowest run took 20.62 times longer than the fastest. This could mean that an intermediate result is being cached.\n",
            "10000 loops, best of 5: 32.1 µs per loop\n"
          ]
        }
      ]
    },
    {
      "cell_type": "code",
      "source": [
        "M=np.linalg.eig(L)\n",
        "np.max(M[0])"
      ],
      "metadata": {
        "colab": {
          "base_uri": "https://localhost:8080/"
        },
        "id": "fsuaobJ5ZNvQ",
        "outputId": "37ce5f51-f6f4-44f6-813f-eb4d899cbbd7"
      },
      "execution_count": null,
      "outputs": [
        {
          "output_type": "execute_result",
          "data": {
            "text/plain": [
              "(20.927316989873255+0j)"
            ]
          },
          "metadata": {},
          "execution_count": 16
        }
      ]
    },
    {
      "cell_type": "code",
      "source": [
        "A=np.array([[1,0],[0,2]])\n",
        "B=np.array([[1,7],[4,9]])\n",
        "np.linalg.det(B)\n",
        "np.dot(B,np.dot(np.diag([1,7]),np.linalg.inv(B)))\n",
        "\n",
        "B@B"
      ],
      "metadata": {
        "colab": {
          "base_uri": "https://localhost:8080/"
        },
        "id": "sm6CUE2ha5hI",
        "outputId": "ad86bb2e-3dfa-4bc7-b7cd-3b3108f08bde"
      },
      "execution_count": null,
      "outputs": [
        {
          "output_type": "execute_result",
          "data": {
            "text/plain": [
              "array([[ 29,  70],\n",
              "       [ 40, 109]])"
            ]
          },
          "metadata": {},
          "execution_count": 22
        }
      ]
    },
    {
      "cell_type": "markdown",
      "source": [
        "# Rozkłady macierzy"
      ],
      "metadata": {
        "id": "XXv5Ae6PcmeG"
      }
    },
    {
      "cell_type": "code",
      "source": [
        "SVD = np.linalg.svd(L)\n",
        "SVD[0] @ np.diag(SVD[1]) @ SVD[2]"
      ],
      "metadata": {
        "colab": {
          "base_uri": "https://localhost:8080/"
        },
        "id": "ZfeFZN7ccqJ1",
        "outputId": "8a311673-a534-4827-f2e6-d2b07e26990a"
      },
      "execution_count": null,
      "outputs": [
        {
          "output_type": "execute_result",
          "data": {
            "text/plain": [
              "array([[ 6.00000000e+00,  7.00000000e+00,  2.00000000e+00,\n",
              "         7.00000000e+00,  3.00000000e+00],\n",
              "       [ 5.00000000e+00,  2.00000000e+00,  1.00000000e+00,\n",
              "         1.00000000e+00,  5.00000000e+00],\n",
              "       [ 4.00000000e+00,  3.00000000e+00,  5.00000000e+00,\n",
              "         3.00000000e+00,  3.00000000e+00],\n",
              "       [ 2.00000000e+00, -5.74631134e-15,  8.00000000e+00,\n",
              "         4.00000000e+00,  5.00000000e+00],\n",
              "       [ 1.69339567e-15,  7.00000000e+00,  5.00000000e+00,\n",
              "         8.00000000e+00,  8.00000000e+00]])"
            ]
          },
          "metadata": {},
          "execution_count": 25
        }
      ]
    },
    {
      "cell_type": "code",
      "source": [
        "(SVD [0] @ SVD [0].T).round(0)"
      ],
      "metadata": {
        "colab": {
          "base_uri": "https://localhost:8080/"
        },
        "id": "FwRG73fAeUfr",
        "outputId": "d578b887-a279-4dcc-da76-04a21c19ecd2"
      },
      "execution_count": null,
      "outputs": [
        {
          "output_type": "execute_result",
          "data": {
            "text/plain": [
              "array([[ 1., -0.,  0., -0.,  0.],\n",
              "       [-0.,  1.,  0.,  0., -0.],\n",
              "       [ 0.,  0.,  1., -0., -0.],\n",
              "       [-0.,  0., -0.,  1., -0.],\n",
              "       [ 0., -0., -0., -0.,  1.]])"
            ]
          },
          "metadata": {},
          "execution_count": 28
        }
      ]
    },
    {
      "cell_type": "code",
      "source": [
        "Mat = np.array([[1,2,3],[1,2,1],[0,1,0]])\n",
        "np.linalg.eig(Mat)\n",
        "np.linalg.svd(Mat)"
      ],
      "metadata": {
        "colab": {
          "base_uri": "https://localhost:8080/"
        },
        "id": "18BjsSs1fCms",
        "outputId": "5bf6140d-363c-41de-aea0-730cf9cb557a"
      },
      "execution_count": null,
      "outputs": [
        {
          "output_type": "execute_result",
          "data": {
            "text/plain": [
              "(array([[-0.8384388 , -0.50673863, -0.20058996],\n",
              "        [-0.52438113,  0.6498237 ,  0.55023049],\n",
              "        [-0.14847494,  0.56652018, -0.81056158]]),\n",
              " array([4.39972444, 1.22684012, 0.37052417]),\n",
              " array([[-0.3097512 , -0.65324882, -0.69088362],\n",
              "        [ 0.11662894,  0.69502969, -0.70945854],\n",
              "        [ 0.94363758, -0.30033266, -0.13909856]]))"
            ]
          },
          "metadata": {},
          "execution_count": 40
        }
      ]
    },
    {
      "cell_type": "code",
      "source": [
        "Mat1=Mat[1:3]\n",
        "Mat1"
      ],
      "metadata": {
        "colab": {
          "base_uri": "https://localhost:8080/"
        },
        "id": "ccaMv0qRflFb",
        "outputId": "5e3fdc43-3c14-4721-88c8-9d77a6a8bbe2"
      },
      "execution_count": null,
      "outputs": [
        {
          "output_type": "execute_result",
          "data": {
            "text/plain": [
              "array([[1, 2, 1],\n",
              "       [0, 1, 0]])"
            ]
          },
          "metadata": {},
          "execution_count": 33
        }
      ]
    },
    {
      "cell_type": "code",
      "source": [
        "Mat_SVD = np.linalg.svd(Mat1)\n",
        "sigma = np.diag(Mat_SVD[1])\n",
        "Mat2 = np.concatenate([Mat1, Mat1], axis=1)\n",
        "sigma2 = np.concatenate([sigma,np.zeros((2,1))], axis=1)\n",
        "Mat_SVD[0] @ sigma2 @ Mat_SVD[2]"
      ],
      "metadata": {
        "colab": {
          "base_uri": "https://localhost:8080/"
        },
        "id": "O4qfCMTHggiy",
        "outputId": "8003333e-ea68-42c6-d69c-36ea7bbcd085"
      },
      "execution_count": null,
      "outputs": [
        {
          "output_type": "execute_result",
          "data": {
            "text/plain": [
              "array([[1.00000000e+00, 2.00000000e+00, 1.00000000e+00],\n",
              "       [3.60336759e-16, 1.00000000e+00, 1.33129905e-16]])"
            ]
          },
          "metadata": {},
          "execution_count": 44
        }
      ]
    },
    {
      "cell_type": "markdown",
      "source": [
        "# Potegowanie"
      ],
      "metadata": {
        "id": "r8GYkZF9iy6A"
      }
    },
    {
      "cell_type": "code",
      "source": [
        "np.linalg.matrix_power(Mat, 20)"
      ],
      "metadata": {
        "colab": {
          "base_uri": "https://localhost:8080/"
        },
        "id": "pXB5wAe2i11A",
        "outputId": "4d9c8ee5-022e-4449-a86f-81d73e00d9b7"
      },
      "execution_count": null,
      "outputs": [
        {
          "output_type": "stream",
          "name": "stdout",
          "text": [
            "The slowest run took 10.10 times longer than the fastest. This could mean that an intermediate result is being cached.\n",
            "100000 loops, best of 5: 8.43 µs per loop\n"
          ]
        }
      ]
    },
    {
      "cell_type": "code",
      "source": [
        "Mat_rozklad= np.linalg.eig(Mat)\n",
        "JA= np.diag(Mat_rozklad[0])\n",
        "P=Mat_rozklad[1]\n",
        "Mat3= (P @ np.linalg.matrix_power(JA, 20) @ np.linalg.inv(P)).round(0)"
      ],
      "metadata": {
        "id": "eAtAUlyakZ7v"
      },
      "execution_count": null,
      "outputs": []
    },
    {
      "cell_type": "markdown",
      "source": [
        "# Rozwiązywanie układów równań"
      ],
      "metadata": {
        "id": "BZxB1CkJmZ7_"
      }
    },
    {
      "cell_type": "code",
      "source": [
        "np.linalg.cond(Mat)"
      ],
      "metadata": {
        "id": "SFyJOsRKmhnt"
      },
      "execution_count": null,
      "outputs": []
    },
    {
      "cell_type": "code",
      "source": [
        "A = np.array([[1,0,2],[3,2,1],[1,1,1]])\n",
        "b1 = np.array([20.001, -9.999, 100.00001])\n",
        "b2 = np.array([20, -10, 100])\n",
        "np.linalg.solve(A, b1)"
      ],
      "metadata": {
        "colab": {
          "base_uri": "https://localhost:8080/"
        },
        "id": "jlYxTzgSnTMM",
        "outputId": "ea882537-cbd4-4ceb-bdef-0927fb4bf8e7"
      },
      "execution_count": null,
      "outputs": [
        {
          "output_type": "execute_result",
          "data": {
            "text/plain": [
              "array([-133.33234667,  156.66568333,   76.66667333])"
            ]
          },
          "metadata": {},
          "execution_count": 66
        }
      ]
    }
  ]
}